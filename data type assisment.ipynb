{
 "cells": [
  {
   "cell_type": "code",
   "execution_count": null,
   "id": "5368d3a3-21f4-4875-b26d-954290817ef7",
   "metadata": {},
   "outputs": [],
   "source": [
    "Data Types and Structures Question\n"
   ]
  },
  {
   "cell_type": "markdown",
   "id": "1dc38176-3689-4de0-84c7-6e01ed03fc2d",
   "metadata": {},
   "source": [
    "# what are a data structures, and why are they important?\n"
   ]
  },
  {
   "cell_type": "code",
   "execution_count": null,
   "id": "e7d6b2ad-3079-4ca2-9722-7d8a1db08192",
   "metadata": {},
   "outputs": [],
   "source": [
    " A data structure is a way of organizing and storing data in computer so it can be used efficiently.\n",
    "importance : They help in managing large amount of data, improve perfomance( like faster searching or sorting), and are essential for desiging efficent\n",
    "alogorthms."
   ]
  },
  {
   "cell_type": "markdown",
   "id": "a142723a-7fd4-4e44-8333-c21338bb88b6",
   "metadata": {},
   "source": [
    "# Explain the difference between mutable and immutable data types with examples."
   ]
  },
  {
   "cell_type": "code",
   "execution_count": null,
   "id": "baffe172-e2b2-402e-8698-2467bd11a0f5",
   "metadata": {},
   "outputs": [],
   "source": [
    "mutable data types can be changed after creation while immutable data types cannot be changed once created.\n",
    "mutable:list-my _lisit = [1, 2, 3]; you can do my_list.append(4)\n",
    "immutable:Tuple-my_tuple = (1, 2, 3);you cannot add or change elements."
   ]
  },
  {
   "cell_type": "markdown",
   "id": "31a685d4-cfb0-486c-873e-564bd4d1d028",
   "metadata": {},
   "source": [
    "# what are the main difference between lists and tuples in python?"
   ]
  },
  {
   "cell_type": "code",
   "execution_count": null,
   "id": "e3904c47-bb61-41ba-909e-f0cc75dc1c43",
   "metadata": {},
   "outputs": [],
   "source": [
    "list vs tuple (python)- short answer:\n",
    "List: mutable< uses[ ], slower, for changing data.\n",
    "Tuple: immutable,uses(), faster,for fixed data."
   ]
  },
  {
   "cell_type": "markdown",
   "id": "2b5f21db-44cd-48aa-a5a1-be1e56d34f21",
   "metadata": {},
   "source": [
    "# Describe how dictionaries store data."
   ]
  },
  {
   "cell_type": "code",
   "execution_count": null,
   "id": "64de7471-c6bf-4078-acf1-e4c7366f85f5",
   "metadata": {},
   "outputs": [],
   "source": [
    "Dictionaries store data as key-value pairs.Each key is unique and maps to a specific value.They use a hash table internally for fast lookup."
   ]
  },
  {
   "cell_type": "markdown",
   "id": "95e116be-0cdc-4e9c-bc86-e12899a0575d",
   "metadata": {},
   "source": [
    "# why might you use a set instead of a list in python?\n"
   ]
  },
  {
   "cell_type": "code",
   "execution_count": null,
   "id": "7acbd3e6-0743-4259-9919-c2888ad2e71e",
   "metadata": {},
   "outputs": [],
   "source": [
    "Use a set to remove duplicates and for fast membership checks."
   ]
  },
  {
   "cell_type": "code",
   "execution_count": 2,
   "id": "17cef5da-971f-4200-a502-2e127af0dbc3",
   "metadata": {},
   "outputs": [],
   "source": [
    "# what is a string in python ,and how is it different from a list?"
   ]
  },
  {
   "cell_type": "code",
   "execution_count": null,
   "id": "c2178436-0896-4bfc-a7ff-204515eabd79",
   "metadata": {},
   "outputs": [],
   "source": [
    "A string in python is a sequence of characters.\n",
    "difference:\n",
    ". string is immutable, stores text.\n",
    ". list is mutable, can store mixed data types.\n"
   ]
  },
  {
   "cell_type": "code",
   "execution_count": null,
   "id": "27259973-a1b2-4c4b-8eb6-07ac25008362",
   "metadata": {},
   "outputs": [],
   "source": [
    "# How do tuples ensure data intergity in python?"
   ]
  },
  {
   "cell_type": "code",
   "execution_count": null,
   "id": "a6a3c21c-9558-4010-93ea-ae877b3f056c",
   "metadata": {},
   "outputs": [],
   "source": [
    "Tuples are immutable, so their data can't be changed after creation.This helps ensure data intergrity by preventing accidental modifications."
   ]
  },
  {
   "cell_type": "code",
   "execution_count": 3,
   "id": "a4127207-33ee-4de4-a4ca-15aa52f2300a",
   "metadata": {},
   "outputs": [],
   "source": [
    "# what is hash table< and how does it relate to dictionaries in python?"
   ]
  },
  {
   "cell_type": "code",
   "execution_count": null,
   "id": "a3b117c2-84b2-48da-9fe2-380e088960c1",
   "metadata": {},
   "outputs": [],
   "source": [
    "A hash table is a data structure that stores data using key-value pairs with fast access using a hash function.\n",
    "in python,dictionaries use hash tables interally to quickly find values by their keys."
   ]
  },
  {
   "cell_type": "code",
   "execution_count": null,
   "id": "70a2ce03-4828-48ab-b3f0-1e1950ea1c88",
   "metadata": {},
   "outputs": [],
   "source": [
    "# Can lists contain different data types in python?"
   ]
  },
  {
   "cell_type": "code",
   "execution_count": null,
   "id": "e3fc10de-2d85-46eb-ac05-932dddeafef0",
   "metadata": {},
   "outputs": [],
   "source": [
    "Yes, lists in python can contain different data types, like integers,string,and objects in the same list."
   ]
  },
  {
   "cell_type": "code",
   "execution_count": 4,
   "id": "36a6bb50-6899-4d84-9245-4440a86aa838",
   "metadata": {},
   "outputs": [],
   "source": [
    "# Explain why strings are immutable in python."
   ]
  },
  {
   "cell_type": "code",
   "execution_count": null,
   "id": "d16d7777-c1db-4bb7-909a-305120debf06",
   "metadata": {},
   "outputs": [],
   "source": [
    "String are immutable to make them secure, reliable, and usable as dictionary keys."
   ]
  },
  {
   "cell_type": "code",
   "execution_count": null,
   "id": "99c1ba97-8064-4b68-8c53-27a1279d28b2",
   "metadata": {},
   "outputs": [],
   "source": [
    "# What advantages do dictionaries offer over lists for certain tasks?"
   ]
  },
  {
   "cell_type": "code",
   "execution_count": null,
   "id": "3f23f467-f59e-4a32-b081-056ffb8dc5a5",
   "metadata": {},
   "outputs": [],
   "source": [
    "Dictionaries offer faster lookups using keys and are better for storing key-value pairs, unlike lists which use index postions."
   ]
  },
  {
   "cell_type": "markdown",
   "id": "45ff5445-538f-4154-9ff7-dfaff0e0fb2c",
   "metadata": {},
   "source": [
    "# Describe a scenario where using a tuple would be preferable over alist."
   ]
  },
  {
   "cell_type": "code",
   "execution_count": null,
   "id": "c10835b4-6026-4f63-823b-0f25a23d3f8a",
   "metadata": {},
   "outputs": [],
   "source": [
    "Use a tuple when you want to store fixed data that should't change, like a person's coordinates or a date."
   ]
  },
  {
   "cell_type": "markdown",
   "id": "353549a6-2d87-4d0d-b956-6d74c2c45d4b",
   "metadata": {},
   "source": [
    "# How do sets handle duplicate values in python?"
   ]
  },
  {
   "cell_type": "code",
   "execution_count": null,
   "id": "bc4b0fed-1360-4367-bff8-d4efd9d3d197",
   "metadata": {},
   "outputs": [],
   "source": [
    "Sets automatically remove duplicate values and only store unique elements in python."
   ]
  },
  {
   "cell_type": "markdown",
   "id": "988409c9-bbd9-406a-8a0b-93d5aab84799",
   "metadata": {},
   "source": [
    "# How does the \"in\" keywords work differently for lists and dictionries?"
   ]
  },
  {
   "cell_type": "code",
   "execution_count": null,
   "id": "143bf62d-9d80-4cba-b62d-681cf5a5395c",
   "metadata": {},
   "outputs": [],
   "source": [
    "In lists, in checks for a value; in dictionaries, it checks for a key."
   ]
  },
  {
   "cell_type": "markdown",
   "id": "bb9e45f5-b5a9-4b2f-9026-02a70884faee",
   "metadata": {},
   "source": [
    "# Can you modfiy the elements of a tuple? Explain why or why not."
   ]
  },
  {
   "cell_type": "code",
   "execution_count": null,
   "id": "df910024-8b75-473b-ae66-dae081b3940a",
   "metadata": {},
   "outputs": [],
   "source": [
    "NO,you cannot modify a tuple's element because tuples are immutable in python."
   ]
  },
  {
   "cell_type": "markdown",
   "id": "0ad1565c-48fc-43e6-8e2d-933fc96f28b0",
   "metadata": {},
   "source": [
    "# What is nested dictionary< and given an example of its use case?"
   ]
  },
  {
   "cell_type": "code",
   "execution_count": null,
   "id": "9d51bdc4-a739-4890-8f8f-3f6a82286654",
   "metadata": {},
   "outputs": [],
   "source": [
    "A nested dictionary stores another dictionary as a value.\n",
    "{\"john\": {\"age\": 25, \"city\": \"NY\"}}"
   ]
  },
  {
   "cell_type": "markdown",
   "id": "8fba77e4-4d39-493e-8db3-9ba6a0f52aef",
   "metadata": {},
   "source": [
    "# Describe the time coimplexity of accessing elements in a dictionary."
   ]
  },
  {
   "cell_type": "code",
   "execution_count": null,
   "id": "a36f58bf-39e8-4454-9a6f-f5857dc850d0",
   "metadata": {},
   "outputs": [],
   "source": [
    "Accessing elements in a dictionary has0(1) time complexity on average, due to hashing."
   ]
  },
  {
   "cell_type": "markdown",
   "id": "422f4b5b-fa54-44c1-a844-3b6c6a527a31",
   "metadata": {},
   "source": [
    "# In what situations are lists preferred over dictionaries?"
   ]
  },
  {
   "cell_type": "code",
   "execution_count": null,
   "id": "3990b83c-ebdf-45ea-9c63-2ac230ac9460",
   "metadata": {},
   "outputs": [],
   "source": [
    "Lists are preferred when you need to stores ordered data or access items by position (index)."
   ]
  },
  {
   "cell_type": "markdown",
   "id": "8aa929ac-cd71-4af2-97ff-672e550d78d1",
   "metadata": {},
   "source": [
    "# Why are dictionaries considered unordered, and how does that affect data retrieval?"
   ]
  },
  {
   "cell_type": "code",
   "execution_count": null,
   "id": "2eb27639-5f90-4264-b1dc-6d165ed8e637",
   "metadata": {},
   "outputs": [],
   "source": [
    "Dictionaries are considered unordered because their items aren't stored by position.\n",
    "Data is retrieved by key,not by order."
   ]
  },
  {
   "cell_type": "markdown",
   "id": "a4aa7d0f-e07f-46b0-9d04-2931f217a106",
   "metadata": {},
   "source": [
    "# Explain the difference between a list and a dictionary in terms of data retrieval."
   ]
  },
  {
   "cell_type": "code",
   "execution_count": null,
   "id": "9e8236b2-f1bc-44b5-8d71-c823fc14e736",
   "metadata": {},
   "outputs": [],
   "source": [
    "In a list, data is retrieved by index(position).\n",
    "In a dictionary, data is retrived by key."
   ]
  },
  {
   "cell_type": "markdown",
   "id": "6e59b30c-41d5-4b52-b7ab-3e35468c837e",
   "metadata": {},
   "source": [
    "                           #Pratical question\n",
    "                           "
   ]
  },
  {
   "cell_type": "markdown",
   "id": "62cb561e-813a-4cb3-b1f3-874bc6124ec9",
   "metadata": {},
   "source": [
    "# Write a code to create a string with your name and print it."
   ]
  },
  {
   "cell_type": "code",
   "execution_count": 3,
   "id": "9cc426ef-1ba1-44db-b93e-6e2339fa4044",
   "metadata": {},
   "outputs": [
    {
     "name": "stdout",
     "output_type": "stream",
     "text": [
      "hema\n"
     ]
    }
   ],
   "source": [
    "name = \"hema\"\n",
    "print(name)"
   ]
  },
  {
   "cell_type": "markdown",
   "id": "817bb065-9113-4b13-a803-358a8de2469a",
   "metadata": {},
   "source": [
    "# Write a code to find the length of the string \"Hello World\"."
   ]
  },
  {
   "cell_type": "code",
   "execution_count": 4,
   "id": "9d8f38b7-7b77-47f3-bbf1-425306388b10",
   "metadata": {},
   "outputs": [
    {
     "name": "stdout",
     "output_type": "stream",
     "text": [
      "11\n"
     ]
    }
   ],
   "source": [
    "text = \"hello world\"\n",
    "print(len(text))"
   ]
  },
  {
   "cell_type": "markdown",
   "id": "f1588d39-4d83-4643-94b1-f2d70a1686ab",
   "metadata": {},
   "source": [
    "# Write a code to slice the first 3 characters from the string \"Python Programming\"."
   ]
  },
  {
   "cell_type": "code",
   "execution_count": 5,
   "id": "0fa6d4b8-a33c-4a80-8c47-bc8c0d7ebdc7",
   "metadata": {},
   "outputs": [
    {
     "name": "stdout",
     "output_type": "stream",
     "text": [
      "pyt\n"
     ]
    }
   ],
   "source": [
    "text = \"python programming\"\n",
    "print(text[:3])"
   ]
  },
  {
   "cell_type": "markdown",
   "id": "893a1a84-0642-473d-9016-4f19ba5994a9",
   "metadata": {},
   "source": [
    "# Write a code to convert the string \"hello\" to uppercase."
   ]
  },
  {
   "cell_type": "code",
   "execution_count": 6,
   "id": "8f931341-4d60-4fb0-bc3a-2f6bbec286cd",
   "metadata": {},
   "outputs": [
    {
     "name": "stdout",
     "output_type": "stream",
     "text": [
      "HELLO\n"
     ]
    }
   ],
   "source": [
    "text = \"hello\"\n",
    "print(text.upper() )"
   ]
  },
  {
   "cell_type": "markdown",
   "id": "86ed8b3d-b91e-4fd4-ba46-c4e30c242210",
   "metadata": {},
   "source": [
    "# Write a code to replace the word \"apple\" with \"orange\" inthe string \"i like apple\"."
   ]
  },
  {
   "cell_type": "code",
   "execution_count": 8,
   "id": "77fe4bb6-335d-4c23-8cef-5a90b8d38ae6",
   "metadata": {},
   "outputs": [
    {
     "name": "stdout",
     "output_type": "stream",
     "text": [
      " FI like orange\n"
     ]
    }
   ],
   "source": [
    "text =\" FI like apple\"\n",
    "print(text.replace(\"apple\",\"orange\"))"
   ]
  },
  {
   "cell_type": "markdown",
   "id": "1ec0d40d-8323-4686-8a07-99131381cfdb",
   "metadata": {},
   "source": [
    "# Write a code to create a list with numbers 1 to 5 and print it."
   ]
  },
  {
   "cell_type": "code",
   "execution_count": 9,
   "id": "9d0ec47c-118a-4a5b-8691-d0e1deb5a2cb",
   "metadata": {},
   "outputs": [
    {
     "name": "stdout",
     "output_type": "stream",
     "text": [
      "[1, 2, 3, 4, 5]\n"
     ]
    }
   ],
   "source": [
    "numbers = [1, 2, 3, 4, 5]\n",
    "print(numbers)"
   ]
  },
  {
   "cell_type": "markdown",
   "id": "908d3324-36d8-4ffc-bf77-502c5ae70603",
   "metadata": {},
   "source": [
    "# Write a code to append the number 10 to the list[1,2,3,4]"
   ]
  },
  {
   "cell_type": "code",
   "execution_count": 11,
   "id": "08f401d8-5cd8-44d1-be97-ad7818ae2044",
   "metadata": {},
   "outputs": [
    {
     "name": "stdout",
     "output_type": "stream",
     "text": [
      "[1, 2, 3, 4, 10]\n"
     ]
    }
   ],
   "source": [
    "numbers = [1, 2, 3, 4]\n",
    "numbers.append(10)\n",
    "print(numbers)"
   ]
  },
  {
   "cell_type": "markdown",
   "id": "f4013f72-f7f9-48d8-948c-ebcfe37fdf20",
   "metadata": {},
   "source": [
    "# Write a code to remove the number 3 from the list[1,2,3,4,5]"
   ]
  },
  {
   "cell_type": "markdown",
   "id": "6e1fb50a-2960-474f-adee-959874c6b61a",
   "metadata": {},
   "source": [
    "numbers = [1, 2, 3, 4, 5]\n",
    "numbers.remove(3)\n",
    "print(numbers)\n"
   ]
  },
  {
   "cell_type": "markdown",
   "id": "a8150cd9-08c5-4965-a0fe-3f2e3c2b2078",
   "metadata": {},
   "source": [
    "# Write a code to access the second element in the list['a','b','c','d']."
   ]
  },
  {
   "cell_type": "code",
   "execution_count": 12,
   "id": "b59d4e6c-ce94-4741-945e-9e439b44da72",
   "metadata": {},
   "outputs": [
    {
     "name": "stdout",
     "output_type": "stream",
     "text": [
      "b\n"
     ]
    }
   ],
   "source": [
    "letters = ['a', 'b', 'c', 'd']\n",
    "print(letters[1])"
   ]
  },
  {
   "cell_type": "markdown",
   "id": "4567f8a9-2a66-4c1f-9f37-0be67c9efb08",
   "metadata": {},
   "source": [
    "# Write a code to reverse the list [10,20,30,40,50]."
   ]
  },
  {
   "cell_type": "code",
   "execution_count": 14,
   "id": "b072e61d-f275-4acf-bba4-37569f432d19",
   "metadata": {},
   "outputs": [
    {
     "name": "stdout",
     "output_type": "stream",
     "text": [
      "[50, 40, 30, 20, 10]\n"
     ]
    }
   ],
   "source": [
    "numbers = [10, 20, 30, 40, 50]\n",
    "reversed_numbers = numbers[ ::-1]\n",
    "print(reversed_numbers)"
   ]
  },
  {
   "cell_type": "markdown",
   "id": "6f562714-afd5-4070-991b-02922497dddd",
   "metadata": {},
   "source": [
    "# Write a code to create a tuple with the elements 100,200,300 and print it."
   ]
  },
  {
   "cell_type": "code",
   "execution_count": 15,
   "id": "382ffa4b-887b-403f-b843-5fa0bc3c57c7",
   "metadata": {},
   "outputs": [
    {
     "name": "stdout",
     "output_type": "stream",
     "text": [
      "(100, 200, 300)\n"
     ]
    }
   ],
   "source": [
    "my_tuple = (100, 200, 300)\n",
    "print(my_tuple)"
   ]
  },
  {
   "cell_type": "markdown",
   "id": "1d27b27d-d43b-4dc4-b75e-dc8a14d53de6",
   "metadata": {},
   "source": [
    "# Write a code to access the second-to-last elements of the tuple('red','green','blue','yellow')."
   ]
  },
  {
   "cell_type": "code",
   "execution_count": 16,
   "id": "939ab6af-19ff-42e0-834f-877349fb9a95",
   "metadata": {},
   "outputs": [
    {
     "name": "stdout",
     "output_type": "stream",
     "text": [
      "blue\n"
     ]
    }
   ],
   "source": [
    "colors = ('red','green','blue','yellow')\n",
    "print(colors[-2])"
   ]
  },
  {
   "cell_type": "markdown",
   "id": "4e5c9fa2-cdc8-4bf7-9b5a-b17c8da9f012",
   "metadata": {},
   "source": [
    "# Write a code to find the minimum number in the tuple(10,20,5,15)."
   ]
  },
  {
   "cell_type": "markdown",
   "id": "0a02786f-5e8b-45e7-95ef-f7c2c914f394",
   "metadata": {},
   "source": [
    "numbers = (10, 20, 5, 15)\n",
    "print(min(numbers))"
   ]
  },
  {
   "cell_type": "markdown",
   "id": "9a6c6a1f-cf79-4550-a086-9ffd6fb8d0b6",
   "metadata": {},
   "source": [
    "# Write a code to find the index of the element \"cat\" in the tuple('dog','cat','rabbit')."
   ]
  },
  {
   "cell_type": "code",
   "execution_count": 7,
   "id": "167b5ccd-46d5-448f-a112-c8dc92da58e8",
   "metadata": {},
   "outputs": [
    {
     "name": "stdout",
     "output_type": "stream",
     "text": [
      "1\n"
     ]
    }
   ],
   "source": [
    "animals = ('dog', 'cat', 'rabbit')\n",
    "index = animals.index('cat')\n",
    "print(index)"
   ]
  },
  {
   "cell_type": "markdown",
   "id": "730d6281-5b3f-44c9-ba2d-96504a36d6bb",
   "metadata": {},
   "source": [
    "# Write a code to create a tuple containing three different fruits and check if \"kiwi\" is in it."
   ]
  },
  {
   "cell_type": "code",
   "execution_count": 5,
   "id": "f88606a4-5738-4f36-ae3e-d54e7c440529",
   "metadata": {},
   "outputs": [
    {
     "name": "stdout",
     "output_type": "stream",
     "text": [
      "False\n"
     ]
    }
   ],
   "source": [
    "fruits = (\"apple\", \"banana\", \"orange\")\n",
    "print(\"kiwi\" in fruits)"
   ]
  },
  {
   "cell_type": "markdown",
   "id": "4d1ba12c-937b-42f0-90cd-49f2108c6f23",
   "metadata": {},
   "source": [
    "# Write a code to create a set with the elements'a','b','c'and print it."
   ]
  },
  {
   "cell_type": "code",
   "execution_count": 9,
   "id": "c1b11800-95da-43d5-bb70-0172a7acebcf",
   "metadata": {},
   "outputs": [
    {
     "name": "stdout",
     "output_type": "stream",
     "text": [
      "{'c', 'b', 'a'}\n"
     ]
    }
   ],
   "source": [
    "my_set = {'a','b','c'}\n",
    "print(my_set)"
   ]
  },
  {
   "cell_type": "markdown",
   "id": "80bf8679-d201-4916-bf59-ec1b0f320f9c",
   "metadata": {},
   "source": [
    "# Write a code to clear all elements from the set{1,2,3,4,5}."
   ]
  },
  {
   "cell_type": "code",
   "execution_count": 10,
   "id": "4a7b64fd-2768-48ad-bdcc-d367eda0386f",
   "metadata": {},
   "outputs": [
    {
     "name": "stdout",
     "output_type": "stream",
     "text": [
      "set()\n"
     ]
    }
   ],
   "source": [
    "my_set = {1,2,3,4,5}\n",
    "my_set.clear()\n",
    "print(my_set)"
   ]
  },
  {
   "cell_type": "markdown",
   "id": "c101d711-efd2-4d5f-b7ec-c8ae0d6e7edc",
   "metadata": {},
   "source": [
    "# Write a code to remove thhe elements 4 from the set{1,2,3,4}."
   ]
  },
  {
   "cell_type": "code",
   "execution_count": 11,
   "id": "ae1fdeb7-5224-4ad5-aa8e-07459c0b5c10",
   "metadata": {},
   "outputs": [
    {
     "name": "stdout",
     "output_type": "stream",
     "text": [
      "{1, 2, 3}\n"
     ]
    }
   ],
   "source": [
    "my_set = {1,2,3,4}\n",
    "my_set.remove(4)\n",
    "print(my_set)"
   ]
  },
  {
   "cell_type": "markdown",
   "id": "e6290c37-435f-47a9-9beb-0fc7fd0b57a5",
   "metadata": {},
   "source": [
    "# Write a code to find the union of two sets {1,2,3} and {3,4,5}."
   ]
  },
  {
   "cell_type": "code",
   "execution_count": 13,
   "id": "cbff013f-9d9a-40f6-a568-eba77f99c0ba",
   "metadata": {},
   "outputs": [
    {
     "name": "stdout",
     "output_type": "stream",
     "text": [
      "{1, 2, 3, 4, 5}\n"
     ]
    }
   ],
   "source": [
    "set1 = {1, 2, 3}\n",
    "set2 = {3, 4, 5}\n",
    "union_set = set1.union(set2)\n",
    "print(union_set)"
   ]
  },
  {
   "cell_type": "markdown",
   "id": "a8166567-69e0-46e4-8e00-ff0ba72e3d1f",
   "metadata": {},
   "source": [
    "# Write a code to find the intersection of two sets {1,2,3} and {2,3,4}."
   ]
  },
  {
   "cell_type": "code",
   "execution_count": 14,
   "id": "18d88ef4-f377-443e-96f0-60a24b3ec48b",
   "metadata": {},
   "outputs": [
    {
     "name": "stdout",
     "output_type": "stream",
     "text": [
      "{2, 3}\n"
     ]
    }
   ],
   "source": [
    "set1 = {1, 2, 3}\n",
    "set2 = {2, 3, 4}\n",
    "print(set1 & set2)"
   ]
  },
  {
   "cell_type": "markdown",
   "id": "cd91ca2b-0848-408f-be08-2bb8bf3d738a",
   "metadata": {},
   "source": [
    "# Write a code to create a dictionary with the keys\"name\",\"age\",and \"city\",and print it."
   ]
  },
  {
   "cell_type": "code",
   "execution_count": 17,
   "id": "62cdb0fc-d09c-46ee-9dfa-4b9fb8257fe4",
   "metadata": {},
   "outputs": [
    {
     "name": "stdout",
     "output_type": "stream",
     "text": [
      "{'name': 'Hema', 'age': 25, 'city': 'delhi'}\n"
     ]
    }
   ],
   "source": [
    "person = {\"name\": \"Hema\", \"age\": 25, \"city\": \"delhi\"}\n",
    "print(person)"
   ]
  },
  {
   "cell_type": "markdown",
   "id": "4f8ed425-b961-495a-9bae-25ed965863ef",
   "metadata": {},
   "source": [
    "# Write a code to add a new key-value pair \"country\":\"USA\" to the dictionary {'name':,:'john','age':25}."
   ]
  },
  {
   "cell_type": "code",
   "execution_count": 18,
   "id": "f5b84ade-3ae6-4115-a928-2e67dcece1b1",
   "metadata": {},
   "outputs": [
    {
     "name": "stdout",
     "output_type": "stream",
     "text": [
      "{'name': 'john', 'age': 25, 'country': 'USA'}\n"
     ]
    }
   ],
   "source": [
    "person = {'name':'john', 'age': 25}\n",
    "person['country'] = 'USA'\n",
    "print(person)\n"
   ]
  },
  {
   "cell_type": "markdown",
   "id": "ad4716de-7789-40ce-a9fc-9aef5e3c5c09",
   "metadata": {},
   "source": [
    "# Write a code to access the value associated with the key\"name\"in the dictionary ['name':'alice','age':30}."
   ]
  },
  {
   "cell_type": "raw",
   "id": "f37003a2-02fd-48d4-9a27-655b39461c14",
   "metadata": {},
   "source": [
    "person = {'name': 'alice', 'age': 30}\n",
    "print(person['name'])"
   ]
  },
  {
   "cell_type": "markdown",
   "id": "aa617526-05b4-4a1c-8769-9242d130be00",
   "metadata": {},
   "source": [
    "# Write a code to remove the key\"age\"from the dictionary {'name':'bob','age':22,'city':'New york'}."
   ]
  },
  {
   "cell_type": "raw",
   "id": "7a6a9f6c-2333-40d0-821b-b8ddc231dedd",
   "metadata": {},
   "source": [
    "person = {'name':'bob', 'age':22, 'city': 'new york'}\n",
    "del person['age']\n",
    "print(person)"
   ]
  },
  {
   "cell_type": "markdown",
   "id": "cac95984-fcea-4767-8f15-392bec2c9ef4",
   "metadata": {},
   "source": [
    "# Write a code to check if the key\"city\" exists in the dictionary {'name':'Alice','city':'paris\"}."
   ]
  },
  {
   "cell_type": "code",
   "execution_count": 19,
   "id": "a4d3c9cc-4c0d-4cc5-96d7-8cd32309bbad",
   "metadata": {},
   "outputs": [
    {
     "name": "stdout",
     "output_type": "stream",
     "text": [
      "True\n"
     ]
    }
   ],
   "source": [
    "person = {'name' : 'alice', 'city' :'paris'}\n",
    "print('city' in person)"
   ]
  },
  {
   "cell_type": "markdown",
   "id": "8255f72f-bcd1-4010-98cd-9119d83264bb",
   "metadata": {},
   "source": [
    "\n",
    "# Write a code to create a list, a tuple,and a dictionary, and print them all."
   ]
  },
  {
   "cell_type": "code",
   "execution_count": 21,
   "id": "14ab1423-fec8-4519-b73f-0e65bcb494fb",
   "metadata": {},
   "outputs": [
    {
     "name": "stdout",
     "output_type": "stream",
     "text": [
      "[1, 2, 3]\n",
      "(4, 5, 6)\n",
      "{'a': 7, 'b': 8}\n"
     ]
    }
   ],
   "source": [
    "my_list = [1, 2, 3]\n",
    "my_tuple = (4, 5, 6)\n",
    "my_dict = {'a':7, 'b' : 8}\n",
    "\n",
    "print(my_list)\n",
    "print(my_tuple)\n",
    "print(my_dict)"
   ]
  },
  {
   "cell_type": "markdown",
   "id": "d3b3423f-2675-44cd-ac3d-ed4a350d28ab",
   "metadata": {},
   "source": [
    "# Write a code to create a list of 5 random numbers between 1 and 100, sort it in ascending order,and print the result.(replaced)"
   ]
  },
  {
   "cell_type": "code",
   "execution_count": 25,
   "id": "3b3a3417-efb9-4df0-8c97-49b1a699c06c",
   "metadata": {},
   "outputs": [
    {
     "name": "stdout",
     "output_type": "stream",
     "text": [
      "[46, 48, 69, 69, 91]\n"
     ]
    }
   ],
   "source": [
    "import random\n",
    "\n",
    "numbers = [random.randint(1, 100) for _ in range(5) ]\n",
    "sorted_numbers = sorted(numbers)\n",
    "print(sorted_numbers)"
   ]
  },
  {
   "cell_type": "markdown",
   "id": "22380312-7b6a-4df2-a6b7-9733f5f448cb",
   "metadata": {},
   "source": [
    "# Write a code to create a list with strings and print the element at the third index."
   ]
  },
  {
   "cell_type": "code",
   "execution_count": 27,
   "id": "b4bb5445-bc82-4f9e-9254-0b79804e5c20",
   "metadata": {},
   "outputs": [
    {
     "name": "stdout",
     "output_type": "stream",
     "text": [
      "parrot\n"
     ]
    }
   ],
   "source": [
    "words =[\"cat\", \"rat\", \"dog\", \"parrot\", \"ant\"]\n",
    "print(words[3])"
   ]
  },
  {
   "cell_type": "markdown",
   "id": "c6f7e853-d78f-41f1-85d6-e1b475c5142b",
   "metadata": {},
   "source": [
    "# Write a code to combine two dictionaries into one and print the result."
   ]
  },
  {
   "cell_type": "code",
   "execution_count": 29,
   "id": "1a1dff45-1fa4-4fc1-a098-6d7c1068d8aa",
   "metadata": {},
   "outputs": [
    {
     "name": "stdout",
     "output_type": "stream",
     "text": [
      "{'a': 1, 'b': 2, 'c': 3, 'd': 4}\n"
     ]
    }
   ],
   "source": [
    "dict1 = {'a': 1, 'b': 2}\n",
    "dict2 = {'c': 3, 'd': 4}\n",
    "combined = {**dict1, **dict2}\n",
    "print(combined)"
   ]
  },
  {
   "cell_type": "markdown",
   "id": "bd01eafc-e8c1-4232-bfd2-a2473d09dc7f",
   "metadata": {},
   "source": [
    "# Write a code to convert a list of stings into a set."
   ]
  },
  {
   "cell_type": "code",
   "execution_count": 30,
   "id": "d0a26b00-f87b-45bf-9721-494e464507f3",
   "metadata": {},
   "outputs": [
    {
     "name": "stdout",
     "output_type": "stream",
     "text": [
      "{'banana', 'apple', 'cherry'}\n"
     ]
    }
   ],
   "source": [
    "my_list = [\"apple\", \"banana\", \"cherry\"]\n",
    "my_set = set(my_list)\n",
    "print(my_set)"
   ]
  },
  {
   "cell_type": "code",
   "execution_count": null,
   "id": "ed40acd4-b27e-40c9-b0a8-849a76e33737",
   "metadata": {},
   "outputs": [],
   "source": []
  }
 ],
 "metadata": {
  "kernelspec": {
   "display_name": "Python 3 (ipykernel)",
   "language": "python",
   "name": "python3"
  },
  "language_info": {
   "codemirror_mode": {
    "name": "ipython",
    "version": 3
   },
   "file_extension": ".py",
   "mimetype": "text/x-python",
   "name": "python",
   "nbconvert_exporter": "python",
   "pygments_lexer": "ipython3",
   "version": "3.12.7"
  }
 },
 "nbformat": 4,
 "nbformat_minor": 5
}
